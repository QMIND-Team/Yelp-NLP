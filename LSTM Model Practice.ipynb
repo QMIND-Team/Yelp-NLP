{
 "cells": [
  {
   "cell_type": "markdown",
   "metadata": {},
   "source": [
    "## Long-Short-Term-Memory Recurrent Neural Net Practice\n",
    "\n",
    "Here's a quick tutorial out of the \"Deep-Learning with Python\" textbook, this involves using a recurrent neural network to predict temperatures and weather forecasts from the given data set\n"
   ]
  },
  {
   "cell_type": "code",
   "execution_count": 1,
   "metadata": {},
   "outputs": [
    {
     "name": "stderr",
     "output_type": "stream",
     "text": [
      "Using TensorFlow backend.\n"
     ]
    }
   ],
   "source": [
    "# Let's first start by importing the libraries and data we'll need\n",
    "# Libraries needed include numpy, keras, csv, matplotlib\n",
    "\n",
    "import numpy as np\n",
    "import keras\n",
    "import csv\n",
    "from matplotlib import pyplot as plt\n",
    "\n",
    "# Need to first import the data into a numpy array so we can do some work with it\n",
    "\n",
    "fname = 'jena_climate_2009_2016.csv'\n",
    "f = open(fname)\n",
    "data = f.read();\n",
    "f.close\n",
    "\n",
    "# Now need to separate the column headers from the rest of the data\n",
    "\n",
    "lines = data.split('\\n')\n",
    "header = lines[0].split(',')\n",
    "lines = lines[1:]"
   ]
  },
  {
   "cell_type": "markdown",
   "metadata": {},
   "source": [
    "## Data Parsing\n",
    "\n",
    "Now we need to parse the data and throw it into a numpy array so we can then feed it into our neural network."
   ]
  },
  {
   "cell_type": "code",
   "execution_count": 2,
   "metadata": {},
   "outputs": [
    {
     "name": "stdout",
     "output_type": "stream",
     "text": [
      "[[ 9.9652e+02 -8.0200e+00  2.6540e+02 ...  1.0300e+00  1.7500e+00\n",
      "   1.5230e+02]\n",
      " [ 9.9657e+02 -8.4100e+00  2.6501e+02 ...  7.2000e-01  1.5000e+00\n",
      "   1.3610e+02]\n",
      " [ 9.9653e+02 -8.5100e+00  2.6491e+02 ...  1.9000e-01  6.3000e-01\n",
      "   1.7160e+02]\n",
      " ...\n",
      " [ 9.9982e+02 -3.1600e+00  2.7001e+02 ...  1.0800e+00  2.0000e+00\n",
      "   2.1520e+02]\n",
      " [ 9.9981e+02 -4.2300e+00  2.6894e+02 ...  1.4900e+00  2.1600e+00\n",
      "   2.2580e+02]\n",
      " [ 9.9982e+02 -4.8200e+00  2.6836e+02 ...  1.2300e+00  1.9600e+00\n",
      "   1.8490e+02]]\n"
     ]
    }
   ],
   "source": [
    "# Initialize an empty array that's the same size as our data\n",
    "\n",
    "float_data = np.zeros((len(lines), len(header)-1))\n",
    "\n",
    "# Will now use a loop to fill the empty array with our data\n",
    "\n",
    "for i, line in enumerate(lines):\n",
    "    values = [float(x) for x in line.split(',')[1:]]\n",
    "    float_data[i,:] = values\n",
    "\n",
    "#Now just to make sure we didn't make a mistake anywhere here, will print out our data\n",
    "\n",
    "print(float_data)"
   ]
  },
  {
   "cell_type": "markdown",
   "metadata": {},
   "source": [
    "## Data Analytics \n",
    "\n",
    "Here we will plot some of our data to see if we can see any obvious patterns. Best to do that before going right into the model creation so that we can ensure that the obvious patterns are indeed accounted for during that stage. Here will simply look at temperature versus time data."
   ]
  },
  {
   "cell_type": "code",
   "execution_count": 3,
   "metadata": {},
   "outputs": [
    {
     "data": {
      "text/plain": [
       "Text(0, 0.5, 'Temperature [C]')"
      ]
     },
     "execution_count": 3,
     "metadata": {},
     "output_type": "execute_result"
    },
    {
     "data": {
      "image/png": "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\n",
      "text/plain": [
       "<Figure size 432x288 with 1 Axes>"
      ]
     },
     "metadata": {
      "needs_background": "light"
     },
     "output_type": "display_data"
    }
   ],
   "source": [
    "# Store our temperature data into a numpy array for convenience\n",
    "\n",
    "temp  = float_data[:,1] \n",
    "plt.plot(range(len(temp)), temp)\n",
    "plt.title('Temperature Time Series for Jena')\n",
    "plt.xlabel('Data Entry')\n",
    "plt.ylabel('Temperature [C]')"
   ]
  },
  {
   "cell_type": "markdown",
   "metadata": {},
   "source": [
    "As is evident from the plot above, we can see that the data typically fluctuates from about +35 to -20 degrees every 50000 entires or so. This will help guide us in developing an accurate recurrent neural network model as we can use this as a qualitative diagnostic for our model's performance."
   ]
  },
  {
   "cell_type": "markdown",
   "metadata": {},
   "source": [
    "## Data Preparation\n",
    "\n",
    "Now we need to prepare our data to be fed into the model. Luckily for our purposes, we don't need to do much in the way of cleaning given the nature of the beast we're working with. If working on a text-based project, this would be where much of the cleaning and vectorization would occur."
   ]
  },
  {
   "cell_type": "code",
   "execution_count": 4,
   "metadata": {},
   "outputs": [],
   "source": [
    "# Three big objectives to accomplish here:\n",
    "#1. Set a \"lookback\" period, or how far back we wish to go in the data set to make future predictions\n",
    "#2. Set a number of steps to pick how often we want to sample, given that we have data recorded every 10 minutes, we should make it a bit simpler and maybe sample once an hour\n",
    "#   Note: Can make above judgement call given the nature of our data, we don't expect much variation in temperature over the course of an hour, but might between hours so sampling once an hour makes sense\n",
    "#3. Set a delay to tell our model how far into the future we wish to make a prediction for, given we're only using 5 days worth of historical data, wouldn't make sense to extend much further than a day into the future\n",
    "\n",
    "# Will normalize our data so it all fits together properly and can be fed into our neural network properly\n",
    "\n",
    "mean = float_data[:200000].mean(axis=0)\n",
    "float_data -= mean\n",
    "std = float_data[:200000].std(axis=0)\n",
    "float_data/= std\n",
    "\n",
    "# Now that we have normalized our data, now need to generate a time series for the adjusted data\n",
    "# Will define a function with all the inputs we'll need for our recurrent neural network as it changes the data given to it \n",
    "# This function will need our normalized data array, our delay, min and max indices, shuffle command (do we want to randomly draw on the data each time or not?), the batch size of our data and the number of steps\n",
    "\n",
    "def generator(data, lookback, delay , min_index, max_index, shuffle = False, batch_size = 128, step = 6):\n",
    "    if max_index is None:\n",
    "        max_index = len(data)  - delay - 1\n",
    "    i = min_index + lookback\n",
    "    while 1:\n",
    "        if shuffle:\n",
    "            rows = np.random.randint(min_index + lookback, max_index, size = batch_size)\n",
    "        else:\n",
    "            if i + batch_size >= max_index:\n",
    "                i = min_index + lookback\n",
    "            rows = np.arange(i, min(i + batch_size, max_index))\n",
    "            i += len(rows)\n",
    "        samples = np.zeros((len(rows), lookback // step, data.shape[-1]))\n",
    "        targets = np.zeros((len(rows), ))\n",
    "        \n",
    "        for j , row in enumerate(rows):\n",
    "            indices = range(rows[j] - lookback, rows[j], step)\n",
    "            samples[j] = data[indices]\n",
    "            targets[j] = data[rows[j] + delay][1]\n",
    "        yield samples, targets"
   ]
  },
  {
   "cell_type": "markdown",
   "metadata": {},
   "source": [
    "## Data Generation\n",
    "\n",
    "Now that we defined a function with all the necessary parameters, can now go ahead and generate a training data set, a testing data set and a validation data set. This will be done below."
   ]
  },
  {
   "cell_type": "code",
   "execution_count": 5,
   "metadata": {},
   "outputs": [],
   "source": [
    "# Start by defining our lookback, step, batch size, and delay\n",
    "\n",
    "# Go back 5 days into the data set\n",
    "lookback  = 1440\n",
    "\n",
    "# Pick one sample an hour\n",
    "step = 6\n",
    "\n",
    "# Make a prediction one day in the future\n",
    "delay = 144\n",
    "\n",
    "# Batch size will be 128 entries\n",
    "batch_size = 128\n",
    "\n",
    "# Now generating the data is as easy as passing in our variables in a function call to \"generator\" for each of the desired data sets\n",
    "\n",
    "# Will start with the training data set, seems like an obvious place to start\n",
    "\n",
    "train_gen=  generator(float_data, lookback=lookback, delay=delay, min_index=0,max_index=200000,shuffle=True,step=step,batch_size=batch_size)\n",
    "\n",
    "# Will then create a validation data set using the exact same parameters, but shifting our indices up\n",
    "\n",
    "val_gen=  generator(float_data, lookback=lookback, delay=delay, min_index=200001,max_index=300000,shuffle=False,step=step,batch_size=batch_size)\n",
    "\n",
    "# And lastly will generate a testing data set \n",
    "\n",
    "test_gen=  generator(float_data, lookback=lookback, delay=delay, min_index=300001,max_index=None,shuffle=False,step=step,batch_size=batch_size)\n",
    "\n",
    "#Set how many steps we need to get the entire validation data set\n",
    "val_steps = (300000 - 200001 - lookback)\n",
    "\n",
    "#Set how many steps we'll need to get the entire testing data set\n",
    "test_steps = (len(float_data) -  300001 - lookback)\n",
    "\n",
    "#Now that we have generated our data sets, it's a good time to make a few notes about this section\n",
    "\n",
    "#1. Our batch sizes could really have been anything we wanted so long as everything matches up\n",
    "#2. Our number of steps is also completely arbitrary, depends upon how much computing power you wish to use for your model, here the patterns are visually obvious, if that's not the case would want to keep as much of the data as possible\n",
    "#3. Our lookback is also completely arbitrary, if you want to see if more complex relationships exist you might want to go back further than 5 days, again heavily contexual and a big judgement call\n",
    "#4. Our delay was again, arbitrary, we could try and predict as far ahead into the future as we wish to see how our model performs at longer time periods, again, a judgement call\n",
    "#5. Shuffling is completely optional, good to add it in to avoid overfitting as the model will eventually come to recognize the order of the data and make predictions accordingly, best to randomize it \n",
    "#6. If desired, can play around with indices to parse out interesting bits of the data and see what fun relationships and patterns emerge\n"
   ]
  },
  {
   "cell_type": "markdown",
   "metadata": {},
   "source": [
    "## Optional Simplified Approach\n",
    "\n",
    "This is a good place to add a simplfified approach, in the textbook they offer the use of a mean absolute error to see what the error is in the predicted temperature measurement. You could use other models, such as sequential neural networks or linear regressions here if you have a gut feeling it may be simpler. Of course, given that this is a tutorial, obviously we need to consider the use of recurrent neural networks. "
   ]
  },
  {
   "cell_type": "markdown",
   "metadata": {},
   "source": [
    "## Model Creation\n",
    "\n",
    "Finally, after all the hard work of normalizing our data, taking a quick look at it, we get the to fun part: model creation. "
   ]
  },
  {
   "cell_type": "code",
   "execution_count": 8,
   "metadata": {},
   "outputs": [
    {
     "name": "stdout",
     "output_type": "stream",
     "text": [
<<<<<<< HEAD
      "Epoch 1/20\n",
      "500/500 [==============================] - 25856s 52s/step - loss: 1.3068 - val_loss: 0.4439\n",
      "Epoch 2/20\n",
      "500/500 [==============================] - 2074s 4s/step - loss: 0.4573 - val_loss: 0.3275\n",
      "Epoch 3/20\n",
      "500/500 [==============================] - 2189s 4s/step - loss: 0.3023 - val_loss: 0.3068\n",
      "Epoch 4/20\n",
      "500/500 [==============================] - 2154s 4s/step - loss: 0.2683 - val_loss: 0.3352\n",
      "Epoch 5/20\n",
      "500/500 [==============================] - 43242s 86s/step - loss: 0.2537 - val_loss: 0.3443\n",
      "Epoch 6/20\n",
      "499/500 [============================>.] - ETA: 0s - loss: 0.2441"
=======
      "Epoch 1/3\n",
      "500/500 [==============================] - 672s 1s/step - loss: 0.9364 - val_loss: 0.5311\n",
      "Epoch 2/3\n",
      "500/500 [==============================] - 682s 1s/step - loss: 0.3375 - val_loss: 0.3106\n",
      "Epoch 3/3\n",
      "500/500 [==============================] - 669s 1s/step - loss: 0.2821 - val_loss: 0.2986\n"
>>>>>>> cbb10dbfda066369e379321d19022b5f5229d7eb
     ]
    }
   ],
   "source": [
    "# Need to import some libraries from keras to create our model\n",
    "# This will involve the use of keras sequential neural network models, layers and rmsprop optimizers\n",
    "\n",
    "from keras.models import Sequential\n",
    "from keras import layers\n",
    "from keras.optimizers import RMSprop\n",
    "\n",
    "# The rest is very similar to the creation of the sequential neural network we made during the Warm-Up project\n",
    "# Quick refresher though, need to define our model with a number of layers, an optimzer function, a loss function, an activation function, and how many layers we want it to be\n",
    "\n",
    "#Define our model as a sequential one\n",
    "model = Sequential()\n",
    "\n",
    "# Add some layers to our model \n",
    "model.add(layers.Flatten(input_shape=(lookback // step, float_data.shape[-1])))\n",
    "model.add(layers.Dense(32, activation = 'relu'))\n",
    "model.add(layers.Dense(1))\n",
    "\n",
    "# Now compile our model with optimizer and loss functions, no metric for this one though\n",
    "model.compile(optimizer = RMSprop(), loss = 'mae')\n",
    "history =  model.fit_generator(train_gen,\n",
    "                               steps_per_epoch = 500,\n",
    "                               epochs = 3,\n",
    "                               validation_data = val_gen,\n",
    "                               validation_steps = val_steps)\n",
    "\n",
    "# Before we go any further, some important notes to make here. Will do that below in the \"Model Notes\" block"
   ]
  },
  {
   "cell_type": "markdown",
   "metadata": {},
   "source": [
    "## Model Notes\n",
    "\n",
    "1. Could have used other activation functions, 'relu' is a pretty popular one, but could use the likes of 'selu' and 'sigmoid'.\n",
    "\n",
    "2. The number of layers we add is completely arbitrary and is usually driven by experimenting with the model to see what works the best for the project.\n",
    "\n",
    "3. The number of epochs is another great place to play around. This is primarily due to wanting to avoid overfitting, which can happen by having too many training epochs. As such, should play around and see how many epochs yields the best result for the model.\n",
    "\n",
    "4. The optimizer function is another area to play around as RMSprop may not always be the best choice for the project at hand.\n",
    "\n",
    "5. The loss function selected here was another judgement call, but others could be used such as binary cross entropy. Used here since we actually have numbers to match to our model's prediction, so makes sense to use mean absolute error to see how far away our model's predictions are so we can mitigate the errors. Could also use root mean square method as well for the same purpose."
   ]
  },
  {
   "cell_type": "markdown",
   "metadata": {},
   "source": [
    "## Model Output\n",
    "\n",
    "Will now plot our model's prediction against the actual data, and validation data to see if we're overfitting, and how our model is performing overall."
   ]
  },
  {
   "cell_type": "code",
   "execution_count": 13,
   "metadata": {},
   "outputs": [
    {
     "data": {
      "image/png": "iVBORw0KGgoAAAANSUhEUgAAAYUAAAEWCAYAAACJ0YulAAAABHNCSVQICAgIfAhkiAAAAAlwSFlzAAALEgAACxIB0t1+/AAAADl0RVh0U29mdHdhcmUAbWF0cGxvdGxpYiB2ZXJzaW9uIDMuMC4yLCBodHRwOi8vbWF0cGxvdGxpYi5vcmcvOIA7rQAAIABJREFUeJzt3Xl4FFXWwOHfISQECDuoQNDggspuzOA67iKggiIjoGxuuOGuIzrqIMI3jOMoOuI6ouACoogwDIqj4oIbBEdRQAQRhwDKJjsSguf741Zik3QnnaSrq5M+7/P0Q3dVdfXpolKn71L3iqpijDHGANQIOgBjjDGJw5KCMcaYIpYUjDHGFLGkYIwxpoglBWOMMUUsKRhjjCliSSEBiEiWiKiI1Ixi2yEiMjdOcZ0iIovi8VmVISKXi8h7fu9bRFJEZLuIHOhHHCLylohcXNH3m8QgImeIyMqg46goSwrlJCIrRSRfRJoWW/6Fd2HPCiiu33sXrO0issOLZXvII+yFrDSq+p6qtvMj3ngQkToislVETgqz7h8iMrk8+1PVvaqaoar/i0Fso0TkuWL776qqL1Z232E+6wURGRHr/frFS657Q87dFSIytIL7OjTM38J2Ebkg1nFXF5YUKuZ7oH/hCxHpANQOLhxQ1Q+9C1YGUHghb1i4rPiFTERqiEi1/v9X1Z3AK8Cg0OUikgr0AyYEEZeJSuj5fCHwoPd3ViEhfweFj6mxC7V6qdYXBR89z74XmsHAxNANRKSBiEwUkfUi8oOI3FV4EfaqIR4QkQ0isgI4O8x7nxGRtSKy2vtVmVLZoEVkrojcJyKfADuAA71fZUtEZJuIfCcil4dsv08xWETyRORmEflKRLaIyCQRqRWy/g4R+dGL+YrSSk7RfK6I/NE7fmtEZFDI+mYiMtMrBXwKtC7la08A/iAioUm7O1AAvOXt7y7v1+g2EVkkIj0jxFwz9DuVFYeIPOods60iMl9EjveWnwP8EbjY+9W6wFs+V0SGeM9riMg93rmzTkSeE5H63rrCX7+DvP2vF5HhpRyDiETkRBHJ9f4/54nIMSHrLvP+H7Z5x6eft7yNiHzgvWeDiLwU8p62IvK2iGwSkW9Cf5GLyDkh/+d5InJTNDGqai7wLXCkt5/ZInJ1se+x2Duu5f3+L4jIOBF5x4trjoi0ivL4NPH+X9aKyM8iMrXYvsOevwlPVe1RjgewEjgDWIo7SVOAVcBBgAJZ3nYTgelAPSALd1Jf5q27CvgGaAU0BuZ4763prX8deBKoC+wHzAOu9NYNAeaWEWNW6P5Cls/14j8SSAVqAucCBwMCnAbsAjp6258BrAx5fx7wKXAA0MT7Tpd7684B1nj7rgtMCj0eYWIs63MLgD97cfbEJbH63vpXvf3XAToCa4H3InyOACuAfiHLXgEeCHl9IdAc9yPpImA7sL+37vLCfXvHK/T/uNQ4gIHe/29N4HZgNVDLWzcKeC7M/88Q7/lQ7/i29s6h6cCz3rpDvTieANKBbGA3cFiEY/ACMCLM8qbAFlyptyYwANgINALqe+sO87ZtDrQNOX63e8crHTjBW17P+46DvP0d7e3vcG/9euB473ljIDtCvEXH3Ht9rBfLId7ri4CPQtYfDayj2PkeeqxK+Vt5wdv3CUAtYFzI/3fE4+Otnw285B2vNOCkaM7fRH8EHkBVe/BbUrgL+AvQDfgPIRcMXKLYXfhH5L3vypCT7V3gqpB1Xb331gT2995bO2R9f2CO93wIlUsK95Tx3pnAtd7zcEkh9OL6IPCo93wicF/IuiMoJSlE8bnbgZSQ9ZuAHO+PrAA4NGTd/URICt76EcAs73lD4BegQynbfw2c7T0PmxTKGwcuOW0D2nmvy0oK7wNDQ9a1886LGvyWFA4IWf850CfCZ0dKCpcAHxdbNh938asPbAbOB9KLbfMS8DjQstjyiwvP05BlzwB/8p6v8Y5nvTLOhcu9Y7vZOw8UeAgQb31tb93B3uuxwCMR9lV4rDYXexQmuxeAF0K2bwD8ikuCpR2fVl6MDcJ8ZsTzN5q/haAfVn1Ucc/jfrEMoVjVEe4XRhrwQ8iyH4CW3vMWuNJF6LpCB+EuOGtFZLOIbMaVGvaLUdyhn1tYpP/MK+5vxiWopuHfCsCPIc93Ahne8+LfaZ/PKS6Kz92gqnvDfNb+/FY6KxR6/MKZCJwpIgfgSgWLVfWrkFiGiMiXIcf7CEo/BkQTh1d98I2IbAF+xpWgytpvoRaUPH/SgGaFC1Q10v9FtIp/RuHntFTVrbgfI9cCP3rVZG28bW7BnaO54qoSB3vLDwJOKDyO3rHsi7vAgkswPYH/ich7oVUxYcxV1Ybq2hSa40pDI73vvQtXSrtYXLVqP9zfY0TevkIfy0JWrwrZbguudNCitOODSwobvO3DiXT+JjxLChWkqj/gGpx7AK8VW70B2IP7Iyl0IK5oDa6aoVWxdYVW4X4RNg05getr7HoBFQ2L69Wzv4or8eyvqg1x9exSgf2uBTJDXreKtGElP/cn3C+5SMevBFVdAXyCS+IDCUniInIw7lfv1UATL5Zvooil1DhE5FTgZuACXOmkEe7XY+F+yxqeeA0lz598XBVMrBT/jMLPWQ2gqm+o6hm4i/Jy3I8TVHWtql6uqs1xSeMpEWmNO3ffKXbxzVDVYd77PlPVnrgfODOBqHp/ecnvNVyVY6EJuJJJV+BnVZ1fge9fKLQNoQGutLCG0o/PKqBpYTtPdWJJoXIuA05T1R2hC71fCFOA0SJST0QOwl0gXvA2mQJcLyKZItIIGB7y3rW4C+TfRaS+1+B4iIic7EP8tXC/PtcDe72GutMruK8pwGUicriI1AHu9uNzVXUPrs3lXhGpLSLtcRf6skwAbgCOwVV/FMrAXaDXAyKuwfuIGMRRD1e9sAH3q3oErqRQ6CcgS0QiJZ9JwM3i7mGpB4wGJqnqr2XFFkFNEUkPeaThLsztRKSvuEb0i3DVLbNEpLmInOv9X+bj6sT3AojIhSJSWOrdjDt+e4EZ3v4uEpFU79HFOydqe8vre8duW+H+yiKu+/d5QOg9M3Nxx/WvlFFKiMK5InKcuE4To3CllLWUcnxUdRXwNjBORBp637VE1+eqyJJCJajqd+p6RoRzHe4PaQXuBH4JGO+texrXSPUlri64eEljEO6iuRhX7fAqvxXBY0ZVNwM3AdNwdZ59cH8IFdnXv3C/uD8AlgEfeat2+/C5V+N+ef+Eq7N+Nor3vIKrupmtqutCYlkIPIJrzF+LSwifxSCOWbiLxjJcO9RWb/+FXsb9H28SkXlh9v20t82HuHNoGy6pVdSfcI35hY+3VHU9rjrndlwD6k3AOaq6CVc1dpsX80bgeGCYt69jgPkisgN37l6rqv/zqlLOwtW5r8VVNf4F9yMAXC+9H0RkK+4HVWnJvOi+G9zfwdrQ76+uov55oD1Q5r0dUvI+hetDVr+ASwYbcB0GBnqfUdrxwfue4DoE/IT7m6/yChtujIkpcX3KP8f1tqnor1tjIhKRS4FBqnpKJfbxArBcVUfEKq6qzkoKJmZE5HwRSRORJsAYYLolBOMHr1rrGuCpoGOpbiwpmFi6FlcEX4br9nltsOGY6khEzsa1Af0PV8VmYsiqj4wxxhSxkoIxxpgiZQ7VnGiaNm2qWVlZQYdhjDFVyoIFCzaoarOytqtySSErK4vc3Ei9QI0xxoQjImXd+Q9Y9ZExxpgQlhSMMcYUsaRgjDGmSJVrUzDG+G/Pnj3k5eXxyy+/BB2KKaf09HQyMzNJTU2t0PstKRhjSsjLy6NevXpkZWURecw+k2hUlY0bN5KXl0fr1qVNSBiZVR8ZY0r45ZdfaNKkiSWEKkZEaNKkSaVKeJYUjDFhWUKomir7/5Y0SWHZMrjjDrBRPYwxJrKkSQozZsCYMTB6dNCRGGPKsnHjRjp37kznzp054IADaNmyZdHr/Pz8qPZxySWXsHTp0lK3GTduHC++WOZ0DFE58cQT+eKLL2KyryAlTUPzzTfDwoVw993Qpg1ceGHQERljImnSpEnRBXbEiBFkZGRw66237rNN0UTzNcL/tn322bLnXrr2WhvIt7ikKSmIwFNPwQknwODBML8yM7oaYwKxfPly2rdvz1VXXUV2djZr165l6NCh5OTk0K5dO0aOHFm0beEv94KCAho2bMjw4cPp1KkTxx13HOvWucn37rrrLsaOHVu0/fDhw+nSpQuHH344H3/8MQA7duzgggsuoFOnTvTv35+cnJyoSwS7du1i8ODBdOjQgezsbD744AMAvvrqK373u9/RuXNnOnbsyIoVK9i2bRvdu3enU6dOtG/fnldffTWWhy5qSVNSAKhVC6ZNg2OOgZ49Yd48aBVxenljDMCNN0Ksa0U6dwbvWlxuixcv5tlnn+WJJ54AYMyYMTRu3JiCggJOPfVU+vTpQ9u2bfd5z5YtWzj55JMZM2YMN998M+PHj2f48OEl9q2qzJs3jxkzZjBy5EjefPNN/vGPf3DAAQcwdepUvvzyS7Kzs6OO9ZFHHiEtLY2vvvqKRYsW0aNHD5YtW8Zjjz3GrbfeSt++fdm9ezeqyvTp08nKyuKNN94oijkISVNSKNSsGfzrX7Bzp0sM27cHHZExpjwOOeQQfve73xW9njRpEtnZ2WRnZ7NkyRIWL15c4j21a9eme/fuABx99NGsXLky7L579+5dYpu5c+fSr18/ADp16kS7du2ijnXu3LkMHOimom7Xrh0tWrRg+fLlHH/88YwaNYr777+fVatWkZ6eTseOHXnzzTcZPnw4H330EQ0aNIj6c2IpqUoKhdq1g5dfhrPPhoEDYepUiFAtaUzSq+gver/UrVu36PmyZct4+OGHmTdvHg0bNmTAgAFh++inpaUVPU9JSaGgoCDsvmvVqlVim8pMRBbpvQMHDuS4447j3//+N2eeeSYTJkzgpJNOIjc3l1mzZnHbbbdxzjnncOedd1b4sysqaS+F3bq5k/311yGA426MiYGtW7dSr1496tevz9q1a5k9e3bMP+PEE09kypQpgGsLCFcSieSkk04q6t20ZMkS1q5dy6GHHsqKFSs49NBDueGGGzj77LNZuHAhq1evJiMjg4EDB3LzzTfz+eefx/y7RCMpSwqFhg2DJUvgr3+FI46AIUOCjsgYUx7Z2dm0bduW9u3bc/DBB3PCCSfE/DOuu+46Bg0aRMeOHcnOzqZ9+/YRq3bOOuusojGHfv/73zN+/HiuvPJKOnToQGpqKhMnTiQtLY2XXnqJSZMmkZqaSosWLRg1ahQff/wxw4cPp0aNGqSlpRW1mcSbr3M0i0g34GEgBfinqo4ptv4gYDzQDNgEDFDVvNL2mZOTo7GcZGfPHleN9N578PbbcNJJMdu1MVXWkiVLOPLII4MOIyEUFBRQUFBAeno6y5Yto2vXrixbtoyaNRP3N3W4/z8RWaCqOWW917dvJSIpwDjgTCAPmC8iM1Q1tOz1ADBRVSeIyGnAX4CBfsUUTmoqTJkCxx0HvXvDZ5/BIYfEMwJjTCLbvn07p59+OgUFBagqTz75ZEInhMry85t1AZar6goAEZkM9AJCk0Jb4Cbv+RzgdR/jiahhQ9cj6Zhj4Jxz4JNP3DJjjGnYsCELFiwIOoy48bOhuSWwKuR1nrcs1JfABd7z84F6ItKk+I5EZKiI5IpI7vr1630J9tBD4bXX4LvvoG9fiNA5wRhjqjU/k0K4ofqKN2DcCpwsIv8FTgZWAyUux6r6lKrmqGpOs2bNYh+p5+ST4ckn4a233A07xhiTbPysPsoDQu8XzgTWhG6gqmuA3gAikgFcoKrB3MbnueQS1yPpb39zPZKGDQsyGmOMiS8/SwrzgcNEpLWIpAH9gBmhG4hIUxEpjOEOXE+kwP3lL9CrF9xwA/jQ7dkYYxKWb0lBVQuAYcBsYAkwRVUXichIEenpbXYKsFREvgX2BxJiYOuUFHjhBejQwY2mWo57VYwxMXDKKaeUuBFt7NixXHPNNaW+LyMjA4A1a9bQp0+fiPsuq1v72LFj2blzZ9HrHj16sHnz5mhCL9WIESN44IEHKr0fP/l6R7OqzlLVNqp6iKqO9pbdo6ozvOevquph3jaXq+puP+Mpj4wM1yOpTh3XI8mn9m1jTBj9+/dn8uTJ+yybPHky/fv3j+r9LVq0qNQoo8WTwqxZs2iYJF0Sk3aYi2i0agXTp8Pate4eht0Jk7KMqd769OnDzJkz2e390a1cuZI1a9Zw4oknFt03kJ2dTYcOHZg+fXqJ969cuZL27dsDbvjqfv360bFjR/r27cuuXbuKtrv66quLht3+85//DLiRTdesWcOpp57KqaeeCkBWVhYbNmwA4MEHH6R9+/a0b9++aNjtlStXcuSRR3LFFVfQrl07unbtus/nlCXcPnfs2MHZZ59dNJT2yy+/DMDw4cNp27YtHTt2LDHHRCxU3zswYqRLF5gwwXVTHToUnnvOzc1gTNIIYOzsJk2a0KVLF95880169erF5MmT6du3LyJCeno606ZNo379+mzYsIFjjz2Wnj17Rpyb+PHHH6dOnTosXLiQhQsX7jP09ejRo2ncuDF79+7l9NNPZ+HChVx//fU8+OCDzJkzh6ZNm+6zrwULFvDss8/y2Wefoaocc8wxnHzyyTRq1Ihly5YxadIknn76aS688EKmTp3KgAEDyjwUkfa5YsUKWrRowb///W/ADaW9adMmpk2bxjfffIOIxKRKqzgrKUThwgvh3nth4kQ3TpIxxn+hVUihVUeqyp133knHjh0544wzWL16NT/99FPE/XzwwQdFF+eOHTvSsWPHonVTpkwhOzubo446ikWLFpU52N3cuXM5//zzqVu3LhkZGfTu3ZsPP/wQgNatW9O5c2eg9OG5o91nhw4dePvtt7n99tv58MMPadCgAfXr1yc9PZ3LL7+c1157jTp16kT1GeVhJYUo3X03fPMN3HGHm87TG3bdmOovoLGzzzvvvKLRQnft2lX0C//FF19k/fr1LFiwgNTUVLKyssIOlx0qXCni+++/54EHHmD+/Pk0atSIIUOGlLmf0saKKxx2G9zQ29FWH0XaZ5s2bViwYAGzZs3ijjvuoGvXrtxzzz3MmzePd955h8mTJ/Poo4/y7rvvRvU50bKSQpREYPx4OPZYNwdDQKPaGpM0MjIyOOWUU7j00kv3aWDesmUL++23H6mpqcyZM4cffvih1P2EDl/99ddfs3DhQsANu123bl0aNGjATz/9VDTjGUC9evXYtm1b2H29/vrr7Ny5kx07djBt2jR+//vfV+p7RtrnmjVrqFOnDgMGDODWW2/l888/Z/v27WzZsoUePXowduzYqKcFLQ8rKZRDerqbf6FLFzj3XDfPc4sWQUdlTPXVv39/evfuvU9PpIsvvphzzz2XnJwcOnfuzBFHHFHqPq6++mouueQSOnbsSOfOnenSpQvgZlE76qijaNeuXYlht4cOHUr37t1p3rw5c+bMKVqenZ3NkCFDivZx+eWXc9RRR0VdVQQwatSoosZkgLy8vLD7nD17Nrfddhs1atQgNTWVxx9/nG3bttGrVy9++eUXVJWHHnoo6s+Nlq9DZ/sh1kNnV8TChXDCCXD44fDBB67bqjHViQ2dXbVVZuhsqz6qgI4dYdIkV4U0aBD8+mvQERljTGxYUqigc86BBx5w8zvfc0/Q0RhjTGxYm0Il3HST65E0erQbPC+KLsnGVBmqGrHvv0lclW0SsJJCJYjAuHFw6qlw2WXw0UdBR2RMbKSnp7Nx48ZKX2BMfKkqGzduJD09vcL7sJJCJaWmwquvuq6q558P8+ZBVlbQURlTOZmZmeTl5eHXpFbGP+np6WRmZlb4/ZYUYqBxY5g50yWGc86Bjz+G+vWDjsqYiktNTaV169ZBh2ECYNVHMdKmjSsxLF0K/frZdJ7GmKrJkkIMnXaaa2N44w3wYfBCY4zxnVUfxdjQoa5H0kMPuR5JV10VdETGGBM9Swo++Nvf4Ntv3fzOhx4KZ5wRdETGGBMdqz7yQUoKvPQSHHkk/OEPrp3BGGOqAksKPqlf303nmZbmeiRt3Bh0RMYYUzZLCj7KynKjqq5aBRdcAPn5QUdkjDGls6Tgs+OOg2eegfffh2uuAbtB1BiTyHxNCiLSTUSWishyERkeZv2BIjJHRP4rIgtFpIef8QTl4ovdzG3PPAMPPhh0NMYYE5lvSUFEUoBxQHegLdBfRNoW2+wuYIqqHgX0Ax7zK56gjRjhGp1vuw1mzAg6GmOMCc/PkkIXYLmqrlDVfGAy0KvYNgoUDgjRAFjjYzyBqlEDnnsOjj4aLroIvvwy6IiMMaYkP5NCS2BVyOs8b1moEcAAEckDZgHXhduRiAwVkVwRya3KA3TVqeNKCY0auek8f/wx6IiMMWZffiaFcAOxF29m7Q88p6qZQA/geREpEZOqPqWqOaqa06xZMx9CjZ/mzV1i2LgRevWCXbuCjsgYY37jZ1LIA1qFvM6kZPXQZcAUAFX9BEgHmvoYU0I46ih48UWYPx8uvdR6JBljEoefSWE+cJiItBaRNFxDcvEm1v8BpwOIyJG4pFB164fK4bzzYMwYmDwZRo4MOhpjjHF8G/tIVQtEZBgwG0gBxqvqIhEZCeSq6gzgFuBpEbkJV7U0RJNoqqfbbnOD540YAYcf7obcNsaYIElVuwbn5ORobm5u0GHETH6+GzBv3jx3g9sxxwQdkTGmOhKRBaqaU9Z2dkdzwNLS4LXXoGVL1/D8v/8FHZExJplZUkgATZu66Tx/+cV1Vd22LeiIjDHJypJCgjjySJgyBRYtcsNi7N0bdETGmGRkSSGBdO0KjzzihtweXmKkKGOM8Z/NvJZgrrkGliyBBx5w03ledlnQERljkomVFBLQQw/BWWe5+Z3fey/oaIwxycSSQgKqWRNefhnatHGT8yxbFnRExphkYUkhQTVo4NoWatRw03n+/HPQERljkoElhQR28MHuHobvv3dzMezZE3RExpjqzpJCgvv97+Hpp+Gdd+C662zwPGOMv6z3URUweLAbI2nMGHc/ww03BB2RMaa6sqRQRYweDUuXws03uwbo7t2DjsgYUx1Z9VEVUaMGPP88dOoEffvC118HHZExpjqypFCF1K3reiRlZLgeSevWBR2RMaa6saRQxbRs6abzXLcOzj/fDaJnjDGxYkmhCsrJgYkT4eOP4YorrEeSMSZ2LClUUX36wKhR8MIL8H//F3Q0xpjqwnofVWF33um6qt51l5vOs0+foCMyxlR1VlKowkTcjW3HHw+DBkE1mqXUGBMQSwpVXHo6TJsG++8PPXtCXl7QERljqjJLCtXAfvu5rqrbt7vEsGNH0BEZY6oqSwrVRPv2MHkyfPklDBwIv/4adETGmKrI16QgIt1EZKmILBeREhNMishDIvKF9/hWRDb7GU9116MHPPigq07605+CjsYYUxX51vtIRFKAccCZQB4wX0RmqOriwm1U9aaQ7a8DjvIrnmRx/fVuOs8xY9x0noMHBx2RMaYq8bOk0AVYrqorVDUfmAz0KmX7/sAkH+NJCiLwj3/A6ae7G9s+/DDoiIwxVYmfSaElsCrkdZ63rAQROQhoDbwbYf1QEckVkdz169fHPNDqJjUVXnkFWrd2Q2GsWBF0RMaYqsLPpCBhlkUakKEf8Kqq7g23UlWfUtUcVc1p1qxZzAKszho1gpkzXYPzOefAli1BR2SMqQr8TAp5QKuQ15nAmgjb9sOqjmLusMPcdJ7LlrnhtgsKgo7IGJPo/EwK84HDRKS1iKThLvwzim8kIocDjYBPfIwlaZ1yCjzxBMyeDTfdVObmxpgk51vvI1UtEJFhwGwgBRivqotEZCSQq6qFCaI/MFnVxvr0y2WXuR5Jf/+7m87zmmuCjsgYk6ikql2Lc3JyNNcG+Sm3vXtdo/OsWe7RtWvQERlj4klEFqhqTlnb2R3NSSIlBV56Cdq1gz/8wZUcjDGmOEsKSSQjw42RVLu265G0YUPQERljEo0lhSRz4IEwfTqsXg29e8Pu3UFHZIxJJJYUktAxx8Bzz7m7na+6yqbzNMb8xmZeS1L9+rlZ2+691/VI+uMfg47IGJMILCkksT//GZYuheHDoU0bOO+8oCMyxgTNqo+SmAiMHw9dusDFF8N//xt0RMaYoFlSSHK1a8Prr0OTJm7WtrVrg47IGBMkSwqGAw5wXVV//hl69YKdO4OOyBgTFEsKBoBOnWDSJMjNhSFDbDpPY5KVJQVT5Nxz4f773VwMI0YEHY0xJgjW+8js45ZbXFfV++6Dww93DdDGmORhJQWzDxF47DE4+WQ3uuonNqC5MUklqqQgIoeISC3v+Skicr2INPQ3NBOUtDSYOhVatXL3LvzwQ9ARGWPiJdqSwlRgr4gcCjyDm0/5Jd+iMoFr0sT1SMrPd4Pnbd0adETGmHiINin8qqoFwPnAWFW9CWjuX1gmERxxhGt0XrIELrrIzclgjKneok0Ke0SkPzAYmOktS/UnJJNIzjgDHn0U/v1vuO22oKMxxvgt2t5HlwBXAaNV9XsRaQ284F9YJpFcdZXrkfTQQ670MHRo0BEZY/wSVVJQ1cXA9QAi0giop6pj/AzMJJa//x2+/RauvRYOPRROOy3oiIwxfoi299F7IlJfRBoDXwLPisiD/oZmEklKCkye7O5duOAClyCMMdVPtG0KDVR1K9AbeFZVjwbO8C8sk4jq13c9klJTXY+kTZuCjsgYE2vRJoWaItIcuJDfGprLJCLdRGSpiCwXkeERtrlQRBaLyCIRsW6uCa51a5g2zd270KcP7NkTdETGmFiKNimMBGYD36nqfBE5GFhW2htEJAUYB3QH2gL9RaRtsW0OA+4ATlDVdsCN5YzfBOCEE+CZZ2DOHNfGYNN5GlN9RNvQ/ArwSsjrFcAFZbytC7Dc2xYRmQz0AhaHbHMFME5Vf/b2uy760E2QBgxwPZJGj3bTed50U9ARGWNiIdqG5kwRmSYi60TkJxGZKiKZZbytJbAq5HWetyxUG6CNiHwkIp+KSLcInz9URHJFJHf9+vXRhGziYORIV4V0yy0wM+pKRWNMIou2+uhZYAbQAndh/5e3rDT11JYqAAAX1klEQVQSZlnxioaawGHAKUB/4J/hxlRS1adUNUdVc5o1axZlyMZvNWrAhAmQnQ39+8PChUFHZIyprGiTQjNVfVZVC7zHc0BZV+c8oFXI60xgTZhtpqvqHlX9HliKSxKmiqhTB2bMgAYN3HwMP/0UdETGmMqINilsEJEBIpLiPQYAG8t4z3zgMBFpLSJpQD9caSPU68CpACLSFFedtCL68E0iaNHCJYYNG9yoqr/8EnRExpiKijYpXIrrjvojsBbogxv6IiJvAL1huF5LS4ApqrpIREaKSE9vs9nARhFZDMwBblPVspKNSUDZ2fD88/Dpp3DppdYjyZiqSrSCf70icqOqjo1xPGXKycnR3NzceH+sidKYMXDHHa4R+u67g47GGFNIRBaoak5Z21Vm5rWbK/FeU03dfjsMGgT33ANTpgQdjTGmvCqTFML1LjJJTgSeegpOPBEGD4Z584KOyBhTHpVJClZrbMKqVQteew2aN4devWDVqrLfY4xJDKUmBRHZJiJbwzy24e5ZMCasZs3cDW07d7quqtu3Bx2RMSYapSYFVa2nqvXDPOqparQT9Jgk1bYtvPwyfPWVGxbj11+DjsgYU5bKVB8ZU6Zu3eDhh2H6dNcryRiT2OzXvvHdsGGwZAncf7+bzvOSUu9wMcYEyUoKJi4efhjOPBOuvBLefz/oaIwxkVhSMHFRs6a7b+GQQ6B3b1i+POiIjDHhWFIwcdOwoeuRJOJ6JG3eHHRExpjiLCmYuDrkEHcPw3ffwYUXQkFB0BEZY0JZUjBxd9JJ8OST8J//wPXX2+B5xiQS631kAnHJJW46z/vvd9N5Xndd0BEZYyCZSgrbt8NGG5U7kfzlL24YjBtvhDffDDoaYwwkU1J4+mlo1cr1iVy8OOhoDG46zxdegI4doW9fWLQo6IiMMcmTFM46y421MHEitGvnXr/xho29ELCMDPjXv9y0nueeC+vXBx2RMckteZJC27ZuTOdVq2D0aDcgT48ebvnjj8OOHUFHmLQyM910nmvXwvnnw+7dQUdkTPJKnqRQqGlTuPNOWLnS1V3UqwfXXOOuTLffbuM8B+R3v4MJE+Cjj2DoUOuRZExQki8pFEpLg4svdrPAzJ0LZ5wBDzwArVu7Cu5PPgk6wqRz4YVuGs+JE920nsaY+EvepFBIBE44AV55BVasgJtugtmz4fjj4dhjYfJk2LMn6CiTxl13wUUXucLca68FHY0xyceSQqiDDoK//Q3y8uDRR2HTJujf35UexoyxLq1xIALPPAPHHef6BSxYEHRExiQXX5OCiHQTkaUislxEhodZP0RE1ovIF97jcj/jiVpGBlx7rbu7auZMd3fVHXdYl9Y4SU+HadPc7G09e8Lq1UFHZEzy8C0piEgKMA7oDrQF+otI2zCbvqyqnb3HP/2Kp0Jq1ICzz3bjMXz1lWuDmDDBurTGwf77u3y8dau7wW3nzqAjMiY5+FlS6AIsV9UVqpoPTAZ6+fh5/mrf3t0At2oVjBplXVrjoEMH16Tz3//CoEGWf42JBz+TQksgtH9nnresuAtEZKGIvCoircLtSESGikiuiOSuD/rupmbN4E9/+q1La0aGdWn10dlnu05hU6fC3XcHHY0x1Z+fSUHCLCve+/xfQJaqdgTeBiaE25GqPqWqOaqa06xZsxiHWUGFXVrnz7curT678Ua44gr4v/+D558POhpjqjc/k0IeEPrLPxNYE7qBqm5U1cL7V58GjvYxHn9Yl1bficC4cXDaaXD55e4GN2OMP/xMCvOBw0SktYikAf2AGaEbiEjzkJc9gSU+xuM/69Lqm9RUl3cPOgjOOw++/z7oiIypnnxLCqpaAAwDZuMu9lNUdZGIjBSRnt5m14vIIhH5ErgeGOJXPHFVWpfWq66yLq0V1LixO5x797rB87ZuDToiY6of0So2yExOTo7m5uYGHUb5ff01PPywqxTfvdt1ab3xRuja1XV9NVF79113+M480w2kV9OmijKmTCKyQFVzytrOrkbxUrxL68KF0L27u+fhiSesS2s5nHYaPPaYu03klluCjsaY6sWSQrwV79Jaty5cfbWrWho+3Lq0RumKK1yb/iOPuJxqjIkNSwpBKd6l9fTTXSN169bQrx98+mnQESa8v/3N3ccwbBi8/XbQ0RhTPVhSCFq4Lq1vvulGhLMuraVKSYFJk9xN5X36uHZ9Y0zlWFJIJNaltdzq1XPTedaqBeecY4fImMqypJCIrEtruRx0ELz+usulF1wA+flBR2RM1WVJIZGFjtK6cKFrg3juOddjqVs3V81ko8QBrrZt/Hh4/33Xbl/FelobkzAsKVQVHTpYl9YyXHSRGzRv/Hj4+9+DjsaYqsmSQlVjXVpLNWKEm+v5j390N7YZY8rHkkJVZV1aw6pRw9Ww5eS4ksMXXwQdkTFViyWFqs66tJZQuzZMnw6NGrnpPNeuDToiY6oOSwrViXVpLdK8ueuqummTG1V1166gIzKmarCkUB2V1aV1SdUeoTxanTvDiy+6GrZLLrEeScZEw5JCdRapS2vbtknTpbVXL1dIevlluPfeoKMxJvFZUkgWSdyl9bbbXEnh3nvdsBjGmMgsKSSbJOzSKuLy3kknueSQpB2zjImKJYVklWRdWtPSYOpUaNnSVSn98EPQERmTmCwpJLsk6tLatKlrd9+9203nuW1b0BEZk3gsKZjfJEGX1iOPdPlv8WJ3c9vevUFHZExisaRgSqrmXVrPPNPN2DZzJtx+e9DRGJNYLCmYyKpxl9ZrroHrrnMD5/3zn0FHY0zi8DUpiEg3EVkqIstFZHgp2/URERWRHD/jMZVQDbu0PvggnHWW63w1Z07Q0RiTGHxLCiKSAowDugNtgf4i0jbMdvWA64HP/IrFxFA16tJas6a7qa1NGzc5z7JlQUdkTPD8LCl0AZar6gpVzQcmA73CbHcfcD/wi4+xmFirJl1aGzRwYySlpLjpPH/+OeiIjAmWn0mhJRD6szHPW1ZERI4CWqnqzNJ2JCJDRSRXRHLXr18f+0hNxYV2af3uO7jxxirXpfXgg2HaNFf46dMn4cM1xld+JgUJs6xoSDIRqQE8BNxS1o5U9SlVzVHVnGbNmsUwRBNTWVnwwAOuCukf/3BdWEO7tG7aFHSEEZ14omsyefddGDbMBs8zycvPpJAHtAp5nQmsCXldD2gPvCciK4FjgRnW2FwN1KvnrqxLl7q6mSOOcF1aMzNd+0OCdmkdNMiF+dRT8PDDQUdjTDD8TArzgcNEpLWIpAH9gKIJElV1i6o2VdUsVc0CPgV6qmqujzGZeKpRw1XUv/2266100UXw7LMJ3aV11Cjo3RtuuQVmzQo6GmPiz7ekoKoFwDBgNrAEmKKqi0RkpIj09OtzTYLq0MHdEJDgXVpr1ICJE91cDP36wVdfBR2RMfElWsUqT3NycjQ31woTVV5+vmucfughWLDAzZ05dKi7k7pVq7Lf77PVq6FLF0hNhXnzYL/9go7ImMoRkQWqWmb1vN3RbIKR4F1aW7aEGTNg3To3necv1mHaJAlLCiZYCdyl9eijXVXSJ5/A5ZdbjySTHCwpmMSRgF1a+/SB0aPdXM+jR8f9442JO0sKJvEkWJfWO+6AgQPh7rtdgcaY6sySgklcpXVp7d4dZs+OS52OiLux7fjjYfBg1wxiTHVlScFUDaFdWu+7D774wt3r0K4dPPkk7Nzp68fXquWGwth/fzedZ16erx9nTGAsKZiqpVkzuOsuN8ny889D7dpu4p/MTFfP4+PVer/93MQ827dDz54Jc2uFMTFlScFUTWlpMGAA5ObChx/CaafB/fe7xur+/eEzf0Zib9fODbf95Zfu4xPshmxjKs2SgqnaRNxodq+++luX1jfecN1ZjzvOXcFj3KW1e3d3z93rr8Odd8Z018YEzpKCqT6Kd2ndsMHdCHfwwfDXv8a0S+t117laq7/+1c1Qakx1YUnBVD/Fu7QefribFS6GXVpF4JFH3I3YQ4e6GixjqgNLCqb68rlLa2qqu2/h4IPh/PNd7ZUxVZ0NiGeSy/r1rgvruHHw449w5JFwww3u7rQ6dSq0y+XL4ZhjoGlTdx9DZua+jwru1piYinZAPEsKJjnl58OUKa7F+PPP3SitV17pRmnNzCz37t5/343vt3p1yXWNG5dMFJmZbjDYwucZGTH4TsaUwpKCMdFQhY8+grFj3d1pIvCHP7heTMccU+7d7drlEkNennusWvXb88LHunUl39egQfhkEbqsfv0YfF+TtCwpGFNeK1fCo4+6MS22bnXdWm+80U3Flpoas4/ZvXvfxBH6KEwiP/1UsrmjXr3SSxuZmdCwoctrxhRnScGYitq2DSZMcBM1L1/urrbDhsEVV7i6oDjIz4e1ayOXNvLy3PriN8/VrRu+qio0gTRubIkjGVlSMKayfv3VTdQ8diy8844bUmPwYLj+etdAHbA9e1xbeaTSRl4erFkDe/fu+7709NKrqjIz3WgiljiqF0sKxsTSV1+5ksMLL7j6n27dXNVS164JffXcu9dVRUUqbaxa5aqyCgr2fV9aWtlVVfvt53r9mqrBkoIxfvChS2vQfv3VNX5HKm0UPvLz931faiq0aBG5tNGqlRtVNiUlmO9l9mVJwRg/Fe/S2rjxbzcppKWFf9SqFXlduPUpKQlTClF1o4aESxahy4rPZZ2S4hJHadVVzZtDzZrBfK9kkhBJQUS6AQ8DKcA/VXVMsfVXAdcCe4HtwFBVXVzaPi0pmIRSvEtrLIdNFYk+qZQ34cRyvVcUUHXDS5VW2li1quTUFzVquMRQWnVVixYx7QCWlAJPCiKSAnwLnAnkAfOB/qEXfRGpr6pbvec9gWtUtVtp+7WkYBJWfr77qZyfv+9j9+6Sy8qzPhb72L3bPfz4e69RI+qkomlp7JE0dhWksaMgje35aWz7JY3Nu2qxeWcam3aksXFrGtv3pJFP6KMWtRukUa9JGg2auUej/dNo0tw99mtVi2Yt00jLKCWGJG8AiTYp+Flo6wIsV9UVXkCTgV5AUVIoTAieukDVqssyJlThxSeR7d3rb+IpY71s3Upafj5p+fk0iLSPgnzCXgq2eI8VFfvqWrMmpKUh8S5Jlee9qamBVxn6mRRaAqtCXucBJW4RFZFrgZuBNOC0cDsSkaHAUIADDzww5oEakzRSUlzX2tq1g44kMtXIySsk8ezcnM+GNe6x6ad8fv4xny3rd7NtQz7bNuaz4+d89uwMKW8UuEeDX3fTOCWfBpJPg5R86tXMJyMlnzo18qmt+aTv3k3Kzp3RJT8/pKZGThr33AN9+/rzuR4/k0K4dFci/avqOGCciFwE3AUMDrPNU8BT4KqPYhynMSaRiLiW55o1S+3RVQc40HtEsnNnyXaNL4u1d2zYUPJ9jRp57RkHRh52JKOuur688Sx1xeHmST+TQh7QKuR1JrCmlO0nA4/7GI8xJsnUqQNt2rhHJLt2uZv8IjWOf/65u9ejuAYNhMzMVO9Rt2TvqtZuvKoE6UAWNT+TwnzgMBFpDawG+gEXhW4gIoep6jLv5dnAMowxJo5q14ZDDnGPSHbv/i1xhOtdtXChu22leDt+Rkbpgxwm4nhVviUFVS0QkWHAbFyX1PGqukhERgK5qjoDGCYiZwB7gJ8JU3VkjDFBq1ULWrd2j0j27HHjUUXqivvWW+HHq6pTp/Q7xzMzoUmT+CUOu3nNGGPipKBg3/GqwiWQ1asjj1d1331u2vGKSIQuqcYYY0LUrPnbr/9ICserCjdWVbNmcYjR/48wxhgTrcKhQVq0gC5d4v/5yX2LnzHGmH1YUjDGGFPEkoIxxpgilhSMMcYUsaRgjDGmiCUFY4wxRSwpGGOMKWJJwRhjTJEqN8yFiKwHfqjg25sCYQbKDZzFVT4WV/klamwWV/lUJq6DVLXMe6KrXFKoDBHJjWbsj3izuMrH4iq/RI3N4iqfeMRl1UfGGGOKWFIwxhhTJNmSwlNBBxCBxVU+Flf5JWpsFlf5+B5XUrUpGGOMKV2ylRSMMcaUwpKCMcaYItUiKYjIeBFZJyJfR1gvIvKIiCwXkYUikh2ybrCILPMeMZ0jOoq4LvbiWSgiH4tIp5B1K0XkKxH5QkRiOv9oFHGdIiJbvM/+QkTuCVnXTUSWesdyeJzjui0kpq9FZK+INPbW+Xm8WonIHBFZIiKLROSGMNvE/RyLMq64n2NRxhX3cyzKuOJ+jolIuojME5EvvbjuDbNNLRF52Tsmn4lIVsi6O7zlS0XkrEoHpKpV/gGcBGQDX0dY3wN4AxDgWOAzb3ljYIX3byPveaM4xnV84ecB3Qvj8l6vBJoGdLxOAWaGWZ4CfAccDKQBXwJt4xVXsW3PBd6N0/FqDmR7z+sB3xb/3kGcY1HGFfdzLMq44n6ORRNXEOeYd85keM9Tgc+AY4ttcw3whPe8H/Cy97ytd4xqAa29Y5dSmXiqRUlBVT8ANpWySS9gojqfAg1FpDlwFvAfVd2kqj8D/wG6xSsuVf3Y+1yAT4FSZm6NnSiOVyRdgOWqukJV84HJuGMbRFz9gUmx+uzSqOpaVf3ce74NWAK0LLZZ3M+xaOIK4hyL8nhF4ts5VoG44nKOeefMdu9lqvco3gOoFzDBe/4qcLqIiLd8sqruVtXvgeW4Y1hh1SIpRKElsCrkdZ63LNLyIFyG+6VZSIG3RGSBiAwNIJ7jvOLsGyLSzluWEMdLROrgLqxTQxbH5Xh5xfajcL/mQgV6jpUSV6i4n2NlxBXYOVbW8Yr3OSYiKSLyBbAO9yMi4vmlqgXAFqAJPhyvmpV5cxUiYZZpKcvjSkROxf3Bnhiy+ARVXSMi+wH/EZFvvF/S8fA5bpyU7SLSA3gdOIwEOV64Yv1HqhpaqvD9eIlIBu4icaOqbi2+Osxb4nKOlRFX4TZxP8fKiCuwcyya40WczzFV3Qt0FpGGwDQRaa+qoW1rcTu/kqWkkAe0CnmdCawpZXnciEhH4J9AL1XdWLhcVdd4/64DplHJImF5qOrWwuKsqs4CUkWkKQlwvDz9KFas9/t4iUgq7kLyoqq+FmaTQM6xKOIK5BwrK66gzrFojpcn7ueYt+/NwHuUrGIsOi4iUhNogKtqjf3ximWDSZAPIIvIDadns28j4DxveWPge1wDYCPveeM4xnUgrg7w+GLL6wL1Qp5/DHSLY1wH8NuNjV2A/3nHriauobQ1vzUCtotXXN76wj+GuvE6Xt53nwiMLWWbuJ9jUcYV93Msyrjifo5FE1cQ5xjQDGjoPa8NfAicU2yba9m3oXmK97wd+zY0r6CSDc3VovpIRCbhejM0FZE84M+4xhpU9QlgFq53yHJgJ3CJt26TiNwHzPd2NVL3LS76Hdc9uHrBx1ybEQXqRkDcH1eEBPdH8pKqvhnHuPoAV4tIAbAL6KfuDCwQkWHAbFwvkfGquiiOcQGcD7ylqjtC3urr8QJOAAYCX3n1vgB34i64QZ5j0cQVxDkWTVxBnGPRxAXxP8eaAxNEJAVXezNFVWeKyEggV1VnAM8Az4vIclzC6ufFvEhEpgCLgQLgWnVVURVmw1wYY4wpkixtCsYYY6JgScEYY0wRSwrGGGOKWFIwxhhTxJKCMcaYIpYUjCnGGxnzi5BHLEfqzJIIo8AakwiqxX0KxsTYLlXtHHQQxgTBSgrGRMkbT/+v3tj380TkUG/5QSLyjrg5C94RkQO95fuLyDRv0LcvReR4b1cpIvK0N3b+WyJSO7AvZUwxlhSMKal2seqjviHrtqpqF+BRYKy37FHcsNkdgReBR7zljwDvq2on3DwRhXfmHgaMU9V2wGbgAp+/jzFRszuajSlGRLarakaY5SuB01R1hTew2o+q2kRENgDNVXWPt3ytqjYVkfVApqruDtlHFm5o5MO817cDqao6yv9vZkzZrKRgTPlohOeRtglnd8jzvVjbnkkglhSMKZ++If9+4j3/GG+AMuBiYK73/B3gaiiaRKV+vII0pqLsF4oxJdUOGUUT4E1VLeyWWktEPsP9oOrvLbseGC8itwHr8UZIBW4AnhKRy3AlgquBtb5Hb0wlWJuCMVHy2hRyVHVD0LEY4xerPjLGGFPESgrGGGOKWEnBGGNMEUsKxhhjilhSMMYYU8SSgjHGmCKWFIwxxhT5fzVS7+VX9a1cAAAAAElFTkSuQmCC\n",
      "text/plain": [
       "<Figure size 432x288 with 1 Axes>"
      ]
     },
     "metadata": {
      "needs_background": "light"
     },
     "output_type": "display_data"
    }
   ],
   "source": [
    "# Will grab our losses by going into the training history and defining appropriate variables to make plotting easier\n",
    "\n",
    "loss = history.history['loss']\n",
    "val_loss = history.history['val_loss']\n",
    "epochs = range(1, len(loss) + 1)\n",
    "\n",
    "# Now plot our training and validation losses\n",
    "\n",
    "plt.figure()\n",
    "plt.plot(epochs, loss, 'b', label = 'Training Loss')\n",
    "plt.plot(epochs, val_loss, 'r', label = 'Validation Loss')\n",
    "plt.xlabel('Epoch')\n",
    "plt.ylabel('Loss')\n",
    "plt.title('Model Traing and Validation Losses By Epoch')\n",
    "plt.legend()\n",
    "plt.show()\n",
    "\n",
    "model.predict(float_data[1])"
   ]
  },
  {
   "cell_type": "markdown",
   "metadata": {},
   "source": [
    "## GRU Model\n",
    "\n",
    "Instead of flattening the time series data, let's remove the flattening and introduce a second type of recurrent neural network model, the GRU model. GRU models are like LSTM models, but they use \"Gated Recurrent Unit\" layers instead of flat ones. The chief difference is that it exploits temporal ordering/sequence of data to develop relationships, as opposed to assuming order was inconsequential."
   ]
  },
  {
   "cell_type": "code",
   "execution_count": null,
   "metadata": {},
   "outputs": [],
   "source": [
    "# Will use the same baseline for our GRU model creation as we did for our LSTM model with a few changes\n",
    "# Will add a dropout rate and recurrent_dropout rate to say how many items were should drop per iteration and per recursion\n",
    "# Will do this to drop a consistent number of items each time through the learning rpocess so the model \"forgets\" or drops pieces of data it determines to be useless\n",
    "\n",
    "# Define our model as a sequential one\n",
    "model = Sequential()\n",
    "\n",
    "# Add some layers to our model \n",
    "model.add(layers.GRU(32,\n",
    "                     dropout = 0.2,\n",
    "                     recurrent_dropout = 0.2,\n",
    "                     input_shape=(None, float_data.shape[-1])))\n",
    "#model.add(layers.Dense(32, activation = 'relu'))\n",
    "model.add(layers.Dense(1))\n",
    "\n",
    "# Now compile our model with optimizer and loss functions, no metric for this one though\n",
    "model.compile(optimizer = RMSprop(), loss = 'mae')\n",
    "history =  model.fit_generator(train_gen,\n",
    "                               steps_per_epoch = 500,\n",
    "                               epochs = 40,\n",
    "                               validation_data = val_gen,\n",
    "                               validation_steps = val_steps)"
   ]
  },
  {
   "cell_type": "markdown",
   "metadata": {},
   "source": [
    "## Model Analysis\n",
    "\n",
    "Just as we did with our LSTM model, will plot our training and validation losses to see how our model is doing to see if we need to tweak some parameters like number of layers or training epochs."
   ]
  },
  {
   "cell_type": "code",
   "execution_count": null,
   "metadata": {},
   "outputs": [],
   "source": [
    "# Will grab our losses by going into the training history and defining appropriate variables to make plotting easier\n",
    "\n",
    "loss = history.history['loss']\n",
    "val_loss - history.history['val_loss']\n",
    "epochs = range(1, len(loss) + 1)\n",
    "\n",
    "# Now plot our training and validation losses\n",
    "\n",
    "plt.figure()\n",
    "plt.plot(epochs, loss, 'b', label = 'Training Loss')\n",
    "plt.plot(epochs, val_loss, 'r', label = 'Validation Loss')\n",
    "plt.xlabel('Epoch')\n",
    "plt.ylabel('Loss')\n",
    "plt.title('Model Traing and Validation Losses By Epoch')\n",
    "plt.legend()\n",
    "plt.show()"
   ]
  },
  {
   "cell_type": "markdown",
   "metadata": {},
   "source": [
    "## Stacked LSTM/GRU Model\n",
    "\n",
    "Essentially the same as regular LSTM and GRU models, but takes advantage of the fact we've added a dropout function to improve \"learning\", or accuracy per epoch to add more layers or number of units per layer (neurons). Will explore this further in the code block below."
   ]
  },
  {
   "cell_type": "code",
   "execution_count": null,
   "metadata": {},
   "outputs": [],
   "source": [
    "# Will use the same baseline for our GRU model creation as we did for our LSTM model with a few changes\n",
    "# Will add a dropout rate and recurrent_dropout rate to say how many items were should drop per iteration and per recursion\n",
    "# Will do this to drop a consistent number of items each time through the learning rpocess so the model \"forgets\" or drops pieces of data it determines to be useless\n",
    "# Will now add another parameter in the first layer that will return its sequence of outputs to stack onto the next layer\n",
    "# Note GRU could be replaced with LSTM, the choice of GRU is somewhat arbitrary here \n",
    "\n",
    "# Define our model as a sequential one\n",
    "model = Sequential()\n",
    "\n",
    "# Add some layers to our model \n",
    "model.add(layers.GRU(32,\n",
    "                     dropout = 0.2,\n",
    "                     recurrent_dropout = 0.2,\n",
    "                     return_sequences = True,\n",
    "                     input_shape=(None, float_data.shape[-1])))\n",
    "\n",
    "model.add(layers.GRU(64, activation = 'relu',\n",
    "                    dropout = 0.1,\n",
    "                    recurrent_dropout = 0.5))\n",
    "\n",
    "model.add(layers.Dense(1))\n",
    "\n",
    "# Now compile our model with optimizer and loss functions, no metric for this one though\n",
    "model.compile(optimizer = RMSprop(), loss = 'mae')\n",
    "history =  model.fit_generator(train_gen,\n",
    "                               steps_per_epoch = 500,\n",
    "                               epochs = 40,\n",
    "                               validation_data = val_gen,\n",
    "                               validation_steps = val_steps)"
   ]
  },
  {
   "cell_type": "markdown",
   "metadata": {},
   "source": [
    "## Updated GRU/LSTM Model Analysis\n",
    "\n",
    "Will also plot the previous model's output to evaluate its performance using its training and validation losses as we did before."
   ]
  },
  {
   "cell_type": "code",
   "execution_count": null,
   "metadata": {},
   "outputs": [],
   "source": [
    "# Will grab our losses by going into the training history and defining appropriate variables to make plotting easier\n",
    "\n",
    "loss = history.history['loss']\n",
    "val_loss - history.history['val_loss']\n",
    "epochs = range(1, len(loss) + 1)\n",
    "\n",
    "# Now plot our training and validation losses\n",
    "\n",
    "plt.figure()\n",
    "plt.plot(epochs, loss, 'b', label = 'Training Loss')\n",
    "plt.plot(epochs, val_loss, 'r', label = 'Validation Loss')\n",
    "plt.xlabel('Epoch')\n",
    "plt.ylabel('Loss')\n",
    "plt.title('Model Traing and Validation Losses By Epoch')\n",
    "plt.legend()\n",
    "plt.show()"
   ]
  },
  {
   "cell_type": "markdown",
   "metadata": {},
   "source": [
    "## Bi-directional Recurrent Neural Networks\n",
    "\n",
    "Very important for Natural Language Processing projects, primarily because the neural network analyses how changing sequence/arrangement influences the outcome. This is accomplished by using two neural networks, one LSTM and one GRU, to analyze the relationship of the data when temporal signficance is excluded, and randomly included and merging the two outcomes. The order of these is completely arbitrary, and you may find excluding time significance first yields better results than if it had been preceded by a time/order significant neural network."
   ]
  },
  {
   "cell_type": "code",
   "execution_count": null,
   "metadata": {},
   "outputs": [],
   "source": [
    "# This is where things get a bit different will use the Bidirectional layer feature\n",
    "\n",
    "# Define our model as a sequential one\n",
    "model = Sequential()\n",
    "\n",
    "# Add some layers to our model \n",
    "model.add(layers.Embedded(32, input_shape=(None, float_data.shape[-1])))\n",
    "\n",
    "model.add(layers.Bidirectional(layers.LSTM(32)))\n",
    "\n",
    "model.add(layers.Dense(1, activation = 'relu'))\n",
    "\n",
    "# Now compile our model with optimizer and loss functions, no metric for this one though\n",
    "model.compile(optimizer = RMSprop(), loss = 'mae')\n",
    "history =  model.fit_generator(train_gen,\n",
    "                               steps_per_epoch = 500,\n",
    "                               epochs = 40,\n",
    "                               validation_data = val_gen,\n",
    "                               validation_steps = val_steps)"
   ]
  },
  {
   "cell_type": "markdown",
   "metadata": {},
   "source": [
    "## Bidirectional Model Analysis\n",
    "\n",
    "Will now plot our validation and training losses for our bidirectional model to see how it's been performing and whether or not we need to change some parameters."
   ]
  },
  {
   "cell_type": "code",
   "execution_count": null,
   "metadata": {},
   "outputs": [],
   "source": [
    "# Will grab our losses by going into the training history and defining appropriate variables to make plotting easier\n",
    "\n",
    "loss = history.history['loss']\n",
    "val_loss - history.history['val_loss']\n",
    "epochs = range(1, len(loss) + 1)\n",
    "\n",
    "# Now plot our training and validation losses\n",
    "\n",
    "plt.figure()\n",
    "plt.plot(epochs, loss, 'b', label = 'Training Loss')\n",
    "plt.plot(epochs, val_loss, 'r', label = 'Validation Loss')\n",
    "plt.xlabel('Epoch')\n",
    "plt.ylabel('Loss')\n",
    "plt.title('Model Traing and Validation Losses By Epoch')\n",
    "plt.legend()\n",
    "plt.show()"
   ]
  }
 ],
 "metadata": {
  "kernelspec": {
   "display_name": "Python 3",
   "language": "python",
   "name": "python3"
  },
  "language_info": {
   "codemirror_mode": {
    "name": "ipython",
    "version": 3
   },
   "file_extension": ".py",
   "mimetype": "text/x-python",
   "name": "python",
   "nbconvert_exporter": "python",
   "pygments_lexer": "ipython3",
   "version": "3.6.8"
  }
 },
 "nbformat": 4,
 "nbformat_minor": 2
}
