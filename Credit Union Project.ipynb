{
 "cells": [
  {
   "cell_type": "markdown",
   "metadata": {},
   "source": [
    "# Canadian Credit Union Yelp and Asset Growth Project\n",
    "\n",
    "Here we explore the correlation between Yelp! reviews and asset growth using various recurrent neural networks. From our experimentation with the data, and features, we found _ yielded the best accuracy of future asset growth. This prediction was generated using Yelp! reviews and sentiment analysis.\n"
   ]
  },
  {
   "cell_type": "markdown",
   "metadata": {},
   "source": [
    "## Initial Set-Up\n",
    "\n",
    "Here we will import the necessary libraries that we will need for the project. Additionally, will read in the data collected from various Canadian Credit Unions and their corresponding Yelp! reviews. "
   ]
  },
  {
   "cell_type": "code",
   "execution_count": 5,
   "metadata": {},
   "outputs": [],
   "source": [
    "# Let's first start by importing the libraries and data we'll need\n",
    "# Libraries needed include numpy, keras, matplotlib\n",
    "\n",
    "import numpy as np\n",
    "import keras\n",
    "import pandas as pd\n",
    "from matplotlib import pyplot as plt\n",
    "import pickle\n",
    "\n",
    "# Import data\n",
    "\n",
    "data = pickle.load(open(\"dfFinal.p\", \"rb\"))\n",
    "\n",
    "cudata = pd.read_excel(\"cuinfo.xlsx\", sheet_name=None)"
   ]
  },
  {
   "cell_type": "markdown",
   "metadata": {},
   "source": [
    "## Data Preparation \n",
    "\n",
    "Structure the data correctly as to be easily used by the generator and the keras model."
   ]
  },
  {
   "cell_type": "code",
   "execution_count": 40,
   "metadata": {},
   "outputs": [
    {
     "name": "stdout",
     "output_type": "stream",
     "text": [
      "['Sheet1', 'Vancity', 'Coast Capital', 'Servus', 'Meridian', 'First West', 'Conexus', 'Affinity', 'Steinbach', 'Assiniboine', 'Connect First']\n",
      "['Vancity', 'Coast Capital Savings', 'Servus Credit Union', 'Meridian Credit Union', 'Affinity Federal Credit Union', 'Assiniboine Credit Union']\n"
     ]
    }
   ],
   "source": [
    "print(list(cudata.keys()))\n",
    "companies = list(data.columns.levels[0])\n",
    "print(companies)"
   ]
  },
  {
   "cell_type": "code",
   "execution_count": 57,
   "metadata": {},
   "outputs": [
    {
     "name": "stdout",
     "output_type": "stream",
     "text": [
      "    Year (Growth from X-1 to X)  Total Assets ($ CAD)\n",
      "0                        2017.0          2.121720e+10\n",
      "1                        2016.0          2.113191e+10\n",
      "2                        2015.0          1.982992e+10\n",
      "3                        2014.0          1.855974e+10\n",
      "4                        2013.0          1.754623e+10\n",
      "5                        2012.0          1.705583e+10\n",
      "6                        2011.0          1.612712e+10\n",
      "7                        2010.0          1.484692e+10\n",
      "8                        2009.0          1.441100e+10\n",
      "9                        2008.0          1.453200e+10\n",
      "10                       2007.0          1.430700e+10\n",
      "11                       2006.0          1.226800e+10\n",
      "12                       2005.0          1.175600e+10\n",
      "13                       2004.0          1.045400e+10\n",
      "14                       2003.0          9.000000e+09\n",
      "15                       2002.0          8.200000e+09\n",
      "16                       2001.0          7.500000e+09\n",
      "17                       2000.0          6.889509e+09\n",
      "18                       1999.0          6.410978e+09\n",
      "19                       1998.0          5.925509e+09\n",
      "20                       1997.0          5.596242e+09\n",
      "21                       1996.0          4.808478e+09\n",
      "22                       1995.0          4.568558e+09\n",
      "23                       1994.0          4.083662e+09\n",
      "24                       1993.0          3.795883e+09\n",
      "25                       1992.0          3.324482e+09\n",
      "26                       1991.0          2.970159e+09\n",
      "27                       1990.0          2.267115e+09\n",
      "28                       1989.0          2.093927e+09\n",
      "29                       1988.0          1.731531e+09\n",
      "..                          ...                   ...\n",
      "42                       1975.0          2.705000e+08\n",
      "43                       1974.0          1.986000e+08\n",
      "44                       1973.0          1.602048e+08\n",
      "45                       1972.0          9.345667e+07\n",
      "46                       1971.0          5.880000e+07\n",
      "47                       1970.0          2.916720e+07\n",
      "48                          NaN                   NaN\n",
      "49                          NaN                   NaN\n",
      "50                          NaN                   NaN\n",
      "51                          NaN                   NaN\n",
      "52                          NaN                   NaN\n",
      "53                          NaN                   NaN\n",
      "54                          NaN                   NaN\n",
      "55                          NaN                   NaN\n",
      "56                          NaN                   NaN\n",
      "57                          NaN                   NaN\n",
      "58                          NaN                   NaN\n",
      "59                          NaN                   NaN\n",
      "60                          NaN                   NaN\n",
      "61                          NaN                   NaN\n",
      "62                          NaN                   NaN\n",
      "63                          NaN                   NaN\n",
      "64                          NaN                   NaN\n",
      "65                          NaN                   NaN\n",
      "66                          NaN                   NaN\n",
      "67                          NaN                   NaN\n",
      "68                          NaN                   NaN\n",
      "69                          NaN                   NaN\n",
      "70                          NaN                   NaN\n",
      "71                          NaN                   NaN\n",
      "\n",
      "[72 rows x 2 columns]\n",
      "    Year (Growth from X-1 to X)  Total Assets ($ CAD)\n",
      "0                        2017.0          1.575358e+10\n",
      "1                        2016.0          1.840828e+10\n",
      "2                        2015.0          1.680292e+10\n",
      "3                        2014.0          1.512039e+10\n",
      "4                        2013.0          1.482305e+10\n",
      "5                        2012.0          1.457757e+10\n",
      "6                           NaN                   NaN\n",
      "7                           NaN                   NaN\n",
      "8                           NaN                   NaN\n",
      "9                           NaN                   NaN\n",
      "10                          NaN                   NaN\n",
      "11                          NaN                   NaN\n",
      "    Year (Growth from X-1 to X)  Total Assets ($ CAD)\n",
      "0                        2018.0          1.614047e+10\n",
      "1                        2017.0          1.539046e+10\n",
      "2                        2016.0          1.481161e+10\n",
      "3                        2015.0          1.427530e+10\n",
      "4                        2014.0          1.404391e+10\n",
      "5                        2013.0          1.311645e+10\n",
      "6                        2012.0          1.218526e+10\n",
      "7                        2011.0          1.124962e+10\n",
      "8                        2010.0          1.079911e+10\n",
      "9                        2009.0          1.016355e+10\n",
      "10                       2008.0          4.623680e+09\n",
      "11                          NaN                   NaN\n",
      "12                          NaN                   NaN\n",
      "13                          NaN                   NaN\n",
      "14                          NaN                   NaN\n",
      "15                          NaN                   NaN\n",
      "16                          NaN                   NaN\n",
      "17                          NaN                   NaN\n",
      "18                          NaN                   NaN\n",
      "19                          NaN                   NaN\n",
      "    Year (Growth from X-1 to X)  Total Assets ($ CAD)\n",
      "0                        2017.0          1.562855e+10\n",
      "1                        2016.0          1.392026e+10\n",
      "2                        2015.0          1.110323e+10\n",
      "3                        2014.0          9.993749e+09\n",
      "4                        2013.0          9.183698e+09\n",
      "5                        2012.0          8.190900e+09\n",
      "6                        2011.0                   NaN\n",
      "7                           NaN                   NaN\n",
      "8                           NaN                   NaN\n",
      "9                           NaN                   NaN\n",
      "10                          NaN                   NaN\n",
      "11                          NaN                   NaN\n",
      "    Year (Growth from X-1 to X)  Total Assets ($ CAD)\n",
      "0                        2017.0          5.194032e+09\n",
      "1                        2016.0          5.096830e+09\n",
      "2                        2015.0          4.775490e+09\n",
      "3                        2014.0          4.329636e+09\n",
      "4                        2013.0          3.955715e+09\n",
      "5                        2012.0          2.473922e+09\n",
      "6                        2011.0          2.333973e+09\n",
      "7                        2010.0          2.144501e+09\n",
      "8                        2009.0          2.048400e+09\n",
      "9                        2008.0          1.901760e+09\n",
      "10                       2007.0          1.754253e+09\n",
      "11                       2006.0          1.555972e+09\n",
      "12                          NaN                   NaN\n",
      "13                          NaN                   NaN\n",
      "14                          NaN                   NaN\n",
      "15                          NaN                   NaN\n",
      "16                          NaN                   NaN\n",
      "17                          NaN                   NaN\n",
      "18                          NaN                   NaN\n",
      "19                          NaN                   NaN\n",
      "20                          NaN                   NaN\n",
      "21                          NaN                   NaN\n",
      "    Year (Growth from X-1 to X)  Total Assets ($ CAD)\n",
      "0                        2017.0          4.479058e+09\n",
      "1                        2016.0          4.363571e+09\n",
      "2                        2015.0          4.176778e+09\n",
      "3                        2014.0          3.865047e+09\n",
      "4                        2013.0          3.553315e+09\n",
      "5                        2012.0          3.431470e+09\n",
      "6                        2011.0          3.116763e+09\n",
      "7                        2010.0          2.834988e+09\n",
      "8                        2009.0          2.621188e+09\n",
      "9                        2008.0          2.413806e+09\n",
      "10                       2007.0          2.093221e+09\n",
      "11                          NaN                   NaN\n",
      "12                          NaN                   NaN\n",
      "13                          NaN                   NaN\n",
      "14                          NaN                   NaN\n",
      "15                          NaN                   NaN\n",
      "16                          NaN                   NaN\n",
      "17                          NaN                   NaN\n",
      "18                          NaN                   NaN\n",
      "19                          NaN                   NaN\n"
     ]
    }
   ],
   "source": [
    "# Extract data from excel\n",
    "for company in companies:\n",
    "    # Translate Names\n",
    "    if company == \"Vancity\":\n",
    "        header = \"Vancity\"\n",
    "    elif company == \"Coast Capital Savings\":\n",
    "        header = \"Coast Capital\"\n",
    "    elif company == \"Servus Credit Union\":\n",
    "        header = \"Servus\"\n",
    "    elif company == \"Meridian Credit Union\":\n",
    "        header = \"Meridian\"\n",
    "    elif company == \"Affinity Federal Credit Union\":\n",
    "        header = \"Affinity\"\n",
    "    elif company == \"Assiniboine Credit Union\":\n",
    "        header = \"Assiniboine\"\n",
    "    # Extract from correct sheet\n",
    "    print(pd.concat([cudata[header][\"Year (Growth from X-1 to X)\"], cudata[header][\"Total Assets ($ CAD)\"]], axis=1))\n",
    "    "
   ]
  },
  {
   "cell_type": "markdown",
   "metadata": {},
   "source": [
    "## Data Analytics \n",
    "\n",
    "Here we will plot some of our data to see if we can see any obvious patterns. Best to do that before going right into the model creation so that we can ensure that the obvious patterns are indeed accounted for during that stage. Here will simply look at temperature versus time data."
   ]
  },
  {
   "cell_type": "code",
   "execution_count": 37,
   "metadata": {},
   "outputs": [
    {
     "ename": "NameError",
     "evalue": "name 'float_data' is not defined",
     "output_type": "error",
     "traceback": [
      "\u001b[1;31m---------------------------------------------------------------------------\u001b[0m",
      "\u001b[1;31mNameError\u001b[0m                                 Traceback (most recent call last)",
      "\u001b[1;32m<ipython-input-37-ab4a022d0dd4>\u001b[0m in \u001b[0;36m<module>\u001b[1;34m\u001b[0m\n\u001b[0;32m      1\u001b[0m \u001b[1;31m# Store our Vancity asset data into a numpy array for convenience\u001b[0m\u001b[1;33m\u001b[0m\u001b[1;33m\u001b[0m\u001b[1;33m\u001b[0m\u001b[0m\n\u001b[0;32m      2\u001b[0m \u001b[1;33m\u001b[0m\u001b[0m\n\u001b[1;32m----> 3\u001b[1;33m \u001b[0mvassets\u001b[0m  \u001b[1;33m=\u001b[0m \u001b[0mfloat_data\u001b[0m\u001b[1;33m[\u001b[0m\u001b[1;33m:\u001b[0m\u001b[1;33m,\u001b[0m\u001b[1;36m1\u001b[0m\u001b[1;33m]\u001b[0m\u001b[1;33m\u001b[0m\u001b[1;33m\u001b[0m\u001b[0m\n\u001b[0m\u001b[0;32m      4\u001b[0m \u001b[0mtime\u001b[0m  \u001b[1;33m=\u001b[0m \u001b[0mdata\u001b[0m\u001b[1;33m[\u001b[0m\u001b[1;33m:\u001b[0m\u001b[1;33m,\u001b[0m\u001b[1;36m1\u001b[0m\u001b[1;33m]\u001b[0m\u001b[1;33m\u001b[0m\u001b[1;33m\u001b[0m\u001b[0m\n\u001b[0;32m      5\u001b[0m \u001b[0mplt\u001b[0m\u001b[1;33m.\u001b[0m\u001b[0mplot\u001b[0m\u001b[1;33m(\u001b[0m\u001b[0mtime\u001b[0m\u001b[1;33m,\u001b[0m \u001b[0mdata\u001b[0m\u001b[1;33m,\u001b[0m \u001b[0mlabel\u001b[0m \u001b[1;33m=\u001b[0m \u001b[1;34m'Asset Growth ($ CAD)'\u001b[0m\u001b[1;33m)\u001b[0m\u001b[1;33m\u001b[0m\u001b[1;33m\u001b[0m\u001b[0m\n",
      "\u001b[1;31mNameError\u001b[0m: name 'float_data' is not defined"
     ]
    }
   ],
   "source": [
    "# Store our Vancity asset data into a numpy array for convenience\n",
    "\n",
    "vassets  = float_data[:,1] \n",
    "time  = data[:,1]\n",
    "plt.plot(time, data, label = 'Asset Growth ($ CAD)')\n",
    "plt.title('Asset Growth By Year')\n",
    "plt.legend()\n",
    "plt.xlabel('Year')\n",
    "plt.ylabel('Asset Growth ($ CAD)')"
   ]
  },
  {
   "cell_type": "markdown",
   "metadata": {},
   "source": [
    "As is evident from the plot above, we should be expecting year over year increase in assets. This will provide us with a diagnostic to ensure the model is providing us with reasonable output. Additionally, should get yearly growths in excess of a few hundreds of millions of dollars. This should pick up to a few billion dollars around the year 2000."
   ]
  },
  {
   "cell_type": "markdown",
   "metadata": {},
   "source": [
    "## Data Generation\n",
    "Will now define a generator function to create our training, validation and testing data sets for our model. Given the nature of the data we are working with, will require more hardcoding than might typically be required."
   ]
  },
  {
   "cell_type": "code",
   "execution_count": null,
   "metadata": {},
   "outputs": [],
   "source": [
    "# Building the generator.  Hardcoded for our purpose\n",
    "def generator(data, lookback, delay , min_index, max_index, batch_size = 128):\n",
    "    step = 1\n",
    "    \n",
    "    if max_index is None:\n",
    "        max_index = len(data)  - delay - 1\n",
    "    i = min_index + lookback\n",
    "    \n",
    "    while 1:\n",
    "        if i + batch_size >= max_index:\n",
    "            i = min_index + lookback\n",
    "        rows = np.arange(i, min(i + batch_size, max_index))\n",
    "        i += len(rows)\n",
    "        samples = np.zeros((len(rows), lookback // step, data.shape[-1]))\n",
    "        targets = np.zeros((len(rows), ))\n",
    "        \n",
    "        for j , row in enumerate(rows):\n",
    "            indices = range(rows[j] - lookback, rows[j], step)\n",
    "            samples[j] = data[indices]\n",
    "            targets[j] = data[rows[j] + delay][1]\n",
    "        yield samples, targets"
   ]
  },
  {
   "cell_type": "markdown",
   "metadata": {},
   "source": [
    "## Model Creation\n",
    "\n",
    "Finally, after all the hard work of normalizing our data, taking a quick look at it, we get the to fun part: model creation. Will be taking Yelp! reviews and provided asset growth data to predict future asset growth as our only output. This will be accomplished using an LSTM recurrent neural network model with _ layers and _ neurons. These were selected as they yielded the highest accuracy from our experimentation. "
   ]
  },
  {
   "cell_type": "code",
   "execution_count": 1,
   "metadata": {},
   "outputs": [
    {
     "name": "stderr",
     "output_type": "stream",
     "text": [
      "C:\\Users\\Randy_B15\\Anaconda3\\lib\\site-packages\\h5py\\__init__.py:36: FutureWarning: Conversion of the second argument of issubdtype from `float` to `np.floating` is deprecated. In future, it will be treated as `np.float64 == np.dtype(float).type`.\n",
      "  from ._conv import register_converters as _register_converters\n",
      "Using TensorFlow backend.\n"
     ]
    },
    {
     "ename": "NameError",
     "evalue": "name 'lookback' is not defined",
     "output_type": "error",
     "traceback": [
      "\u001b[1;31m---------------------------------------------------------------------------\u001b[0m",
      "\u001b[1;31mNameError\u001b[0m                                 Traceback (most recent call last)",
      "\u001b[1;32m<ipython-input-1-bf43b5a8192f>\u001b[0m in \u001b[0;36m<module>\u001b[1;34m()\u001b[0m\n\u001b[0;32m     13\u001b[0m \u001b[1;33m\u001b[0m\u001b[0m\n\u001b[0;32m     14\u001b[0m \u001b[1;31m# Add some layers to our model\u001b[0m\u001b[1;33m\u001b[0m\u001b[1;33m\u001b[0m\u001b[0m\n\u001b[1;32m---> 15\u001b[1;33m \u001b[0mmodel\u001b[0m\u001b[1;33m.\u001b[0m\u001b[0madd\u001b[0m\u001b[1;33m(\u001b[0m\u001b[0mlayers\u001b[0m\u001b[1;33m.\u001b[0m\u001b[0mFlatten\u001b[0m\u001b[1;33m(\u001b[0m\u001b[0minput_shape\u001b[0m\u001b[1;33m=\u001b[0m\u001b[1;33m(\u001b[0m\u001b[0mlookback\u001b[0m \u001b[1;33m//\u001b[0m \u001b[0mstep\u001b[0m\u001b[1;33m,\u001b[0m \u001b[0mfloat_data\u001b[0m\u001b[1;33m.\u001b[0m\u001b[0mshape\u001b[0m\u001b[1;33m[\u001b[0m\u001b[1;33m-\u001b[0m\u001b[1;36m1\u001b[0m\u001b[1;33m]\u001b[0m\u001b[1;33m)\u001b[0m\u001b[1;33m)\u001b[0m\u001b[1;33m)\u001b[0m\u001b[1;33m\u001b[0m\u001b[0m\n\u001b[0m\u001b[0;32m     16\u001b[0m \u001b[0mmodel\u001b[0m\u001b[1;33m.\u001b[0m\u001b[0madd\u001b[0m\u001b[1;33m(\u001b[0m\u001b[0mlayers\u001b[0m\u001b[1;33m.\u001b[0m\u001b[0mDense\u001b[0m\u001b[1;33m(\u001b[0m\u001b[1;36m32\u001b[0m\u001b[1;33m,\u001b[0m \u001b[0mactivation\u001b[0m \u001b[1;33m=\u001b[0m \u001b[1;34m'relu'\u001b[0m\u001b[1;33m)\u001b[0m\u001b[1;33m)\u001b[0m\u001b[1;33m\u001b[0m\u001b[0m\n\u001b[0;32m     17\u001b[0m \u001b[0mmodel\u001b[0m\u001b[1;33m.\u001b[0m\u001b[0madd\u001b[0m\u001b[1;33m(\u001b[0m\u001b[0mlayers\u001b[0m\u001b[1;33m.\u001b[0m\u001b[0mDense\u001b[0m\u001b[1;33m(\u001b[0m\u001b[1;36m1\u001b[0m\u001b[1;33m)\u001b[0m\u001b[1;33m)\u001b[0m\u001b[1;33m\u001b[0m\u001b[0m\n",
      "\u001b[1;31mNameError\u001b[0m: name 'lookback' is not defined"
     ]
    }
   ],
   "source": [
    "# Need to import some libraries from keras to create our model\n",
    "# This will involve the use of keras sequential neural network models, layers and rmsprop optimizers\n",
    "\n",
    "from keras.models import Sequential\n",
    "from keras import layers\n",
    "from keras.optimizers import RMSprop\n",
    "\n",
    "\n",
    "# Now need to define how far back into the data set wqe wish to go, how often we wish to sample,\n",
    "# and how far into the future we wish to predict \n",
    "\n",
    "# Will use all of our data to make future predictions, as such, will use length of time series column \n",
    "# since each of the credit unions gave variable historical data (i.e. did not share common report start date)\n",
    "\n",
    "lookback  = len(time)\n",
    "\n",
    "# Since we have limited annual data, will sample every year, therefore will use a step of 1\n",
    "\n",
    "step = 1\n",
    "\n",
    "# Will now define a batch size for our model so wqe can call the data genertator function\n",
    "\n",
    "batch_size = 5\n",
    "\n",
    "# Will start by predicting asset growth one year into the future, and will extend outwards from there\n",
    "\n",
    "delay  = 1\n",
    "\n",
    "# Get our data using the data generator function\n",
    "\n",
    "# Will start with the training data set, seems like an obvious place to start\n",
    "\n",
    "train_gen =  generator(float_data, lookback=lookback, delay=delay, min_index=0,max_index=(number),shuffle=True,step=step,batch_size=batch_size)\n",
    "\n",
    "# Will then create a validation data set using the exact same parameters, but shifting our indices up\n",
    "\n",
    "val_gen =  generator(float_data, lookback=lookback, delay=delay, min_index=200001,max_index=300000,shuffle=False,step=step,batch_size=batch_size)\n",
    "\n",
    "# And lastly will generate a testing data set \n",
    "\n",
    "test_gen =  generator(float_data, lookback=lookback, delay=delay, min_index=300001,max_index=None,shuffle=False,step=step,batch_size=batch_size)\n",
    "\n",
    "#Set how many steps we need to get the entire validation data set\n",
    "#val_steps = (300000 - 200001 - lookback)\n",
    "\n",
    "#Set how many steps we'll need to get the entire testing data set\n",
    "#test_steps = (len(float_data) -  300001 - lookback)\n",
    "\n",
    "# The rest is very similar to the creation of the sequential neural network we made during the Warm-Up project\n",
    "# Quick refresher though, need to define our model with a number of layers, an optimzer function, a loss function, an activation function, and how many layers we want it to be\n",
    "\n",
    "# Define our model as a sequential one\n",
    "model = Sequential()\n",
    "\n",
    "# Add some layers to our model \n",
    "model.add(LSTM(32, input_shape=(lookback // step, float_data.shape[-1]), return_sequences = True))\n",
    "model.add(layers.Dense(32, activation = 'relu'))\n",
    "model.add(layers.Dense(1))\n",
    "\n",
    "# Now compile our model with optimizer and loss functions, no metric for this one though\n",
    "model.compile(optimizer = RMSprop(), loss = 'mae')\n",
    "history =  model.fit_generator(train_gen,\n",
    "                               steps_per_epoch = 50,\n",
    "                               epochs = 1,\n",
    "                               validation_data = val_gen,\n",
    "                               validation_steps = step)\n",
    "\n",
    "# Before we go any further, some important notes to make here. Will do that below in the \"Model Notes\" block"
   ]
  },
  {
   "cell_type": "markdown",
   "metadata": {},
   "source": [
    "## Model Notes\n",
    "\n",
    "1. Could have used other activation functions, 'relu' is a pretty popular one, but could use the likes of 'selu' and 'sigmoid'.\n",
    "\n",
    "2. The number of layers we add is completely arbitrary and is usually driven by experimenting with the model to see what works the best for the project.\n",
    "\n",
    "3. The number of epochs is another great place to play around. This is primarily due to wanting to avoid overfitting, which can happen by having too many training epochs. As such, should play around and see how many epochs yields the best result for the model.\n",
    "\n",
    "4. The optimizer function is another area to play around as RMSprop may not always be the best choice for the project at hand.\n",
    "\n",
    "5. The loss function selected here was another judgement call, but others could be used such as binary cross entropy. Used here since we actually have numbers to match to our model's prediction, so makes sense to use mean absolute error to see how far away our model's predictions are so we can mitigate the errors. Could also use root mean square method as well for the same purpose."
   ]
  },
  {
   "cell_type": "markdown",
   "metadata": {},
   "source": [
    "## Model Evaluation\n",
    "\n",
    "Now that we have trained and validated our model, it is imperative we now test it. This will be done using model.evaluate() and the test data we set aside for it earlier."
   ]
  },
  {
   "cell_type": "code",
   "execution_count": null,
   "metadata": {},
   "outputs": [],
   "source": [
    "results = model.evaluate(test_gen)\n",
    "\n",
    "#Print out the accuracy of our model on the testing data\n",
    "\n",
    "print(\"Accuracy:\", results[1])"
   ]
  },
  {
   "cell_type": "markdown",
   "metadata": {},
   "source": [
    "## Model Output\n",
    "\n",
    "Will now plot our model's prediction against the actual data, and validation data to see if we're overfitting, and how our model is performing overall."
   ]
  },
  {
   "cell_type": "code",
   "execution_count": null,
   "metadata": {},
   "outputs": [],
   "source": [
    "# Will grab our losses by going into the training history and defining appropriate variables to make plotting easier\n",
    "\n",
    "loss = history.history['loss']\n",
    "val_loss = history.history['val_loss']\n",
    "epochs = range(1, len(loss) + 1)\n",
    "\n",
    "# Now plot our training and validation losses\n",
    "\n",
    "plt.figure()\n",
    "plt.plot(epochs, loss, 'b', label = 'Training Loss')\n",
    "plt.plot(epochs, val_loss, 'r', label = 'Validation Loss')\n",
    "plt.xlabel('Epoch')\n",
    "plt.ylabel('Loss')\n",
    "plt.title('Model Training and Validation Losses By Epoch')\n",
    "plt.legend()\n",
    "plt.show()\n",
    "\n",
    "# Will now have our model make a prediction\n",
    "# X will be our input that we give to our model to make its prediction\n",
    "\n",
    "prediction = model.predict(X)\n",
    "print(prediction)"
   ]
  },
  {
   "cell_type": "markdown",
   "metadata": {},
   "source": [
    "## Model Evaluation\n",
    "\n",
    "As is evident from the plot and historical output above, our model is able to achieve accuracy in the range of _%-_%. Furthermore, it is evident that in using _ epochs, the model is able to avoid overfitting to the training data. As such, it can be concluded that our model is sufficiently effective in predicting future asset growth for Canadian Credit Unions using Yelp! reviews, and yearly asset growth. Lastly, it can be concluded that Vancity Credit Uni"
   ]
  }
 ],
 "metadata": {
  "kernelspec": {
   "display_name": "Python 3",
   "language": "python",
   "name": "python3"
  },
  "language_info": {
   "codemirror_mode": {
    "name": "ipython",
    "version": 3
   },
   "file_extension": ".py",
   "mimetype": "text/x-python",
   "name": "python",
   "nbconvert_exporter": "python",
   "pygments_lexer": "ipython3",
   "version": "3.6.8"
  }
 },
 "nbformat": 4,
 "nbformat_minor": 2
}
